{
 "cells": [
  {
   "cell_type": "code",
   "execution_count": 4,
   "metadata": {},
   "outputs": [
    {
     "name": "stdout",
     "output_type": "stream",
     "text": [
      "['A', 'A', 'L']\n",
      "['A', 'A', 'L']\n"
     ]
    }
   ],
   "source": [
    "strOriginal = input(\"Ingresa la cadena: \")\n",
    "strScrambled = input(\"Ingresa la cadena a comparar: \")\n",
    "\n",
    "listOriginal = list(strOriginal)\n",
    "listScrambled = list(strScrambled)\n",
    "\n",
    "listOriginal.sort()\n",
    "listScrambled.sort()\n",
    "\n",
    "\n",
    "print(listOriginal)\n",
    "print(listScrambled)\n",
    "\n",
    "if(listOriginal==listScrambled):\n",
    "    print(\"True\")\n",
    "else:\n",
    "    print(\"False\")\n"
   ]
  },
  {
   "cell_type": "code",
   "execution_count": 38,
   "metadata": {},
   "outputs": [
    {
     "name": "stdout",
     "output_type": "stream",
     "text": [
      "Ingrese 3 cadenas para justificarlas\n",
      "This        is     an\n",
      "example    of    text\n",
      "Justification.\n",
      "\n"
     ]
    }
   ],
   "source": [
    "print(\"Ingrese 3 cadenas para justificarlas\")\n",
    "text = []\n",
    "for i in range(3):\n",
    "    text.append(input(\"Ingrese la Frase No.\" + str(i)+\" : \"))\n",
    "\n",
    "strMaxChar = int(input(\"Ingrese el maximo de caracteres\"))\n",
    "\n",
    "\n",
    "def justify_text(text):\n",
    "    lines = [line.strip() for line in text.split(\"\\n\")]\n",
    "    ll = strMaxChar\n",
    "    for i, l in enumerate(lines):\n",
    "        pos_space = 0\n",
    "        while len(l) < ll and (i != len(lines)-1):\n",
    "            pos_space = l.find(\" \", pos_space)\n",
    "            if pos_space == -1:\n",
    "                # start over from beginning\n",
    "                pos_space = l.find(\" \", 0)\n",
    "                if pos_space == -1:\n",
    "                    break\n",
    "            l = l[:pos_space] + \" \" + l[pos_space:]\n",
    "            pos_space += 2\n",
    "        lines[i] = l\n",
    "\n",
    "    return '\\n'.join(lines)\n",
    "\n",
    "t=\"\"\n",
    "\n",
    "for x in text:\n",
    "    t += x\n",
    "    t += \"\\n\"\n",
    "\n",
    "print(justify_text(t))"
   ]
  },
  {
   "cell_type": "code",
   "execution_count": 8,
   "metadata": {},
   "outputs": [
    {
     "name": "stdout",
     "output_type": "stream",
     "text": [
      "suo\n"
     ]
    }
   ],
   "source": [
    "strOriginal = input(\"Ingresa la cadena: \")\n",
    "strComparar = input(\"Ingresa la cadena a comparar: \")\n",
    "\n",
    "listOriginal = list(strOriginal)\n",
    "listComparar = list(strComparar)\n",
    "\n",
    "aux = \"\"\n",
    "if len(listOriginal) == len(listComparar):\n",
    "    for i in range(len(listOriginal)):\n",
    "        if(listComparar[i] == listOriginal[i]):\n",
    "            aux += listComparar[i]\n",
    "        \n",
    "print(aux)\n"
   ]
  },
  {
   "cell_type": "code",
   "execution_count": 1,
   "metadata": {},
   "outputs": [
    {
     "name": "stdout",
     "output_type": "stream",
     "text": [
      "La abuela le dará 3 Avellanas \n"
     ]
    }
   ],
   "source": [
    "N = int(input(\"Ingrese el numero total: \"))\n",
    "x= int(input(\"Ingrese el primer numero para la suma: \"))\n",
    "y= int(input(\"Ingrese el segundo numero para la suma: \"))\n",
    "\n",
    "aux = x + y\n",
    "if aux == N :\n",
    "    numAvellanasx = bin(x).count(\"1\")\n",
    "    numAvellanasy = bin(y).count(\"1\")    \n",
    "    print(\"La abuela le dará \" + str(numAvellanasx+numAvellanasy) + \" Avellanas \")\n",
    "else:\n",
    "    print(\"La suma de los Numeros x e y no es N\")"
   ]
  }
 ],
 "metadata": {
  "kernelspec": {
   "display_name": "Python 3.10.2 64-bit",
   "language": "python",
   "name": "python3"
  },
  "language_info": {
   "codemirror_mode": {
    "name": "ipython",
    "version": 3
   },
   "file_extension": ".py",
   "mimetype": "text/x-python",
   "name": "python",
   "nbconvert_exporter": "python",
   "pygments_lexer": "ipython3",
   "version": "3.10.2"
  },
  "orig_nbformat": 4,
  "vscode": {
   "interpreter": {
    "hash": "369f2c481f4da34e4445cda3fffd2e751bd1c4d706f27375911949ba6bb62e1c"
   }
  }
 },
 "nbformat": 4,
 "nbformat_minor": 2
}
